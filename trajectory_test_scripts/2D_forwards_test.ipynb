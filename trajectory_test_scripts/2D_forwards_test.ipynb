{
 "cells": [
  {
   "cell_type": "markdown",
   "metadata": {},
   "source": [
    "# Load Modules"
   ]
  },
  {
   "cell_type": "code",
   "execution_count": 1,
   "metadata": {},
   "outputs": [],
   "source": [
    "import os, sys\n",
    "from netCDF4 import Dataset\n",
    "import numpy as np\n",
    "import pandas as pd\n",
    "import xarray as xr\n",
    "from scipy import interpolate\n",
    "import time\n",
    "from matplotlib.colors import Normalize\n",
    "from mpl_toolkits.axes_grid1 import AxesGrid\n",
    "import matplotlib.patches as patches\n",
    "import matplotlib\n",
    "import matplotlib.pyplot as plt\n",
    "import matplotlib.lines as mlines\n",
    "import matplotlib.colors as mcolors\n",
    "from matplotlib.colors import ListedColormap\n",
    "\n",
    "\n",
    "import matplotlib\n",
    "import matplotlib.pyplot as plt\n",
    "from netCDF4 import Dataset\n",
    "import numpy as np\n",
    "import time\n",
    "from datetime import date, timedelta\n",
    "from matplotlib import animation\n",
    "import matplotlib.animation as animation\n",
    "import types\n",
    "import matplotlib.lines as mlines\n",
    "import matplotlib.colors as mcolors\n",
    "from matplotlib.colors import ListedColormap\n",
    "import nclcmaps\n",
    "import pandas as pd\n",
    "import xarray as xr\n",
    "from scipy import interpolate\n",
    "import operator\n",
    "import multiprocessing\n",
    "from matplotlib.colors import Normalize\n",
    "from mpl_toolkits.axes_grid1 import AxesGrid\n",
    "import matplotlib.patches as patches"
   ]
  },
  {
   "cell_type": "markdown",
   "metadata": {},
   "source": [
    "# Read in CM1 Output"
   ]
  },
  {
   "cell_type": "code",
   "execution_count": 2,
   "metadata": {},
   "outputs": [],
   "source": [
    "ds = xr.open_dataset('/uufs/chpc.utah.edu/common/home/u1013082/cm1_parcels/high_freq_out/cm1_parcels_2s/cm1out.nc')\n",
    "dsp = xr.open_dataset('/uufs/chpc.utah.edu/common/home/u1013082/cm1_parcels/high_freq_out/cm1_parcels_2s/cm1out_pdata.nc')\n",
    "\n",
    "xposp = (dsp.x.values/100)+450\n",
    "zposp = dsp.z.values\n",
    "thp = dsp.th.values\n",
    "\n",
    "#Get model output demensions\n",
    "num_x = ds.nx\n",
    "num_z = ds.nz\n",
    "\n",
    "x = np.arange(0,num_x,1)\n",
    "x_stag = np.arange(0,num_x+1,1) #staggered x-grid points\n",
    "z = np.arange(0,num_z,1)\n",
    "z_stag = np.arange(0,num_z+1,1) #staggered z-grid points"
   ]
  },
  {
   "cell_type": "markdown",
   "metadata": {},
   "source": [
    "# Info to Initialize and Calculate Parcels"
   ]
  },
  {
   "cell_type": "markdown",
   "metadata": {},
   "source": [
    "Variables based on their model output and desired parcels (set by user). The code initializes an array of parcels in the the y,z domain. It can be easily modified to also initialize in the x-domain."
   ]
  },
  {
   "cell_type": "code",
   "execution_count": 3,
   "metadata": {},
   "outputs": [],
   "source": [
    "num_seeds_z = 10 #Number of parcels in vertical (can be more than number of vertical levels) \n",
    "num_seeds_x = 1 #Number of parcels in y\n",
    "time_steps = 3600 #Number of time steps to run trajectories back\n",
    "start_time_step = 0 #Time step to start backwards trajectories at\n",
    "hor_resolution = 100.0 #Horizontal resolution of model output (meters)\n",
    "vert_resolution = 100.0 #Vertical resolution of model output. Only used in no-terrain runs. Calculated below for runs with terrain (meters)\n",
    "time_step_length = 2.0 #Model output time step length (seconds)\n",
    "desired_time_step_length = 2.0 #Time step length for calculations(seconds)\n",
    "var_name1 = 'th' #Variable to record at each parcel's location throughout trajectory (code can be easily modified to add more)"
   ]
  },
  {
   "cell_type": "markdown",
   "metadata": {},
   "source": [
    "Create empty arrays to x, y, and z positions of parcels and variable to track"
   ]
  },
  {
   "cell_type": "code",
   "execution_count": 4,
   "metadata": {},
   "outputs": [],
   "source": [
    "xpos = np.zeros((time_steps, num_seeds_z, num_seeds_x))\n",
    "ypos = np.zeros((time_steps, num_seeds_z, num_seeds_x))\n",
    "zpos = np.zeros((time_steps, num_seeds_z, num_seeds_x))\n",
    "zpos_grid = np.zeros((time_steps, num_seeds_z, num_seeds_x))\n",
    "change_zs = np.zeros((time_steps, num_seeds_z, num_seeds_x))\n",
    "variable1 = np.zeros((time_steps, num_seeds_z, num_seeds_x))"
   ]
  },
  {
   "cell_type": "markdown",
   "metadata": {},
   "source": [
    "Initial location of seeds (set by user)"
   ]
  },
  {
   "cell_type": "code",
   "execution_count": 5,
   "metadata": {},
   "outputs": [],
   "source": [
    "#x-position\n",
    "xpos[0,:,:] = 400 #This example initializes all seeds at same x-position\n",
    "\n",
    "\n",
    "#z-position\n",
    "for i in range(num_seeds_z):\n",
    "    zpos[0,i,:] = i #This example initializes seeds evenly starting at zero in z-deimension\n",
    "\n",
    "#z-position for parcel validation with 'cm1out_pdata.nc''\n",
    "zs = np.array(ds.zs[0,0,:]) #terrain height (m)\n",
    "zh = np.array(ds.zh[0,:,0,:]) #height on model levels (m)\n",
    "x_s = np.int(xpos[0,0,0])\n",
    "zpos[0,:,0] = (zposp[0,:]-zs[x_s])/(zh[2,x_s]-zh[1,x_s])\n",
    "\n",
    "zpos[0,0,0] = 0.5 #Becasue scipy has isuues with interpolation"
   ]
  },
  {
   "cell_type": "markdown",
   "metadata": {},
   "source": [
    "## Initialize Surface Terrain Height and Calculate Vertical Grid-Spacing\n",
    "CM1 output in terrain following so we must add the surface terrain height to the initial height of the parcels above the surface. Also, the vertical grid spacing changes above areas of terrain in CM1. We must read in the the vertical heights and calculate the the vertical grid spacing for each x,y grid point. This will be ignored if you are not using terrain."
   ]
  },
  {
   "cell_type": "code",
   "execution_count": 6,
   "metadata": {},
   "outputs": [],
   "source": [
    "#Check if run has terrain. If so, add  (if not, zs is zero and z-position should not be affected)\n",
    "try:\n",
    "    #Get vertical coordinates\n",
    "    zh = np.array(ds.zh[0,:,0,:])\n",
    "    #Create list of current coordinates for terrain addition\n",
    "    xloc = np.array(xpos[0,:,:]-0.5).flatten()\n",
    "    zloc = np.array(zpos[0,:,:]-0.5).flatten()\n",
    "    coor_terrain = []\n",
    "    for i in range(len(xloc)):\n",
    "        coor_terrain.append((zloc[i], xloc[i]))\n",
    "    #Get the actual inital height of the parcels. Not their height above the surface.\n",
    "    zpos_terrain = np.array(zpos)\n",
    "    \n",
    "    #Substract zh[0,0] because we are dealing with staggered gridpoints (nkp1). Don't need to do if using u-interp\n",
    "    #zpos_terrain[0,:,:] = np.reshape(interpolate.interpn((z,x), zh-zh[0,x_s]+zs[x_s], coor_terrain, method='linear', bounds_error=False, fill_value= 0), (num_seeds_z, num_seeds_x))\n",
    "    zpos_terrain[0,:,:] = np.reshape(np.array(zposp[0,:]).flatten(),(num_seeds_z, num_seeds_x))\n",
    "    \n",
    "    #This gets us the grid spacing for the vertical grid\n",
    "    z_grid = (zh[1:,:]-zh[:-1,:])\n",
    "\n",
    "\n",
    "except:\n",
    "    #No terrain runs\n",
    "    zh = np.zeros((ds.nz, ds.nx))\n",
    "    zpos_terrain = np.copy(zpos)*vert_resolution\n",
    "    z_grid = np.ones((ds.nz-1, ds.nx))*vert_resolution"
   ]
  },
  {
   "cell_type": "markdown",
   "metadata": {},
   "source": [
    "# Calculate Trajectories"
   ]
  },
  {
   "cell_type": "code",
   "execution_count": 7,
   "metadata": {},
   "outputs": [
    {
     "name": "stderr",
     "output_type": "stream",
     "text": [
      "/uufs/chpc.utah.edu/common/home/u1013082/anaconda3/lib/python3.6/site-packages/ipykernel_launcher.py:91: RuntimeWarning: divide by zero encountered in true_divide\n",
      "/uufs/chpc.utah.edu/common/home/u1013082/anaconda3/lib/python3.6/site-packages/scipy/interpolate/interpolate.py:2507: RuntimeWarning: invalid value encountered in add\n",
      "  values += np.asarray(self.values[edge_indices]) * weight[vslice]\n",
      "/uufs/chpc.utah.edu/common/home/u1013082/anaconda3/lib/python3.6/site-packages/scipy/interpolate/interpolate.py:2507: RuntimeWarning: invalid value encountered in multiply\n",
      "  values += np.asarray(self.values[edge_indices]) * weight[vslice]\n"
     ]
    }
   ],
   "source": [
    "#Loop over all time steps and compute trajectory\n",
    "for t in range(0,time_steps-1):\n",
    "    \n",
    "    start = time.time() #Timer\n",
    "    \n",
    "    #Get model data (\"start_time_step+t\" for forward trajectories)\n",
    "    t_out = np.int(t*np.int(desired_time_step_length/time_step_length))\n",
    "    u = ds.u[start_time_step+t_out,:,0,:].values\n",
    "    w = ds.w[start_time_step+t_out,:,0,:].values\n",
    "    var1 = getattr(ds,var_name1)[start_time_step+t_out,:,0,:].values\n",
    "\n",
    "                                \n",
    "    #####################   Get x,y,z for variables ###########################\n",
    "    ##  If the model output is terrain following, the change in surface      ##\n",
    "    ##  height at each timestep must be added to the height (zpos) of the    ##\n",
    "    ##  parcels.                                                             ##\n",
    "    ###########################################################################\n",
    "        \n",
    "    #Get surface height grid\n",
    "    try:\n",
    "        zs = np.array(ds.zs[0,0,:])\n",
    "    except:\n",
    "        zs = np.zeros((ds.nx))  \n",
    "\n",
    "\n",
    "    #Get previous and current x and y positions to calc change in surface height\n",
    "    if t > 0:\n",
    "        \n",
    "        #x and y for one time step back\n",
    "        xloc = np.copy(xpos[t-1,:,:]).flatten()\n",
    "        coor_xminus1 = []\n",
    "        for i in range(len(xloc)):\n",
    "            coor_xminus1.append((xloc[i]))\n",
    "            \n",
    "            \n",
    "        #xand y for current time step\n",
    "        xloc = np.copy(xpos[t,:,:]).flatten()\n",
    "        coor_x = []\n",
    "        for i in range(len(xloc)):\n",
    "            coor_x.append((xloc[i]))\n",
    "            \n",
    "        #Calc surface height at each time\n",
    "        xminus1_h = np.interp(coor_xminus1, x, zs)\n",
    "        x_h = np.interp(coor_x, x, zs)\n",
    "        \n",
    "        #Calc change in surface height during last timestep, which will be added to zpos\n",
    "        change_zs[t,:,:] =  np.reshape(x_h - xminus1_h, (num_seeds_z, num_seeds_x))\n",
    "    \n",
    "    \n",
    "    #Get get x, y, and z positions to calc parcel movement\n",
    "    xloc = np.copy(xpos[t,:,:]).flatten()\n",
    "    zloc = np.copy(zpos[t,:,:]-0.5).flatten()\n",
    "    zloc = zloc.clip(min=0.01)\n",
    "    coor_var_xstag = []\n",
    "    for i in range(len(xloc)):\n",
    "        coor_var_xstag.append((zloc[i], xloc[i])) \n",
    "        \n",
    "    xloc = np.copy(xpos[t,:,:]-0.5).flatten()\n",
    "    zloc = np.copy(zpos[t,:,:]).flatten()\n",
    "    coor_var_zstag = []\n",
    "    for i in range(len(xloc)):\n",
    "        coor_var_zstag.append((zloc[i], xloc[i])) \n",
    "        \n",
    "        \n",
    "    xloc = np.copy(xpos[t,:,:]-0.5).flatten()\n",
    "    zloc = np.copy(zpos[t,:,:]-0.5).flatten()\n",
    "    coor_var = []\n",
    "    for i in range(len(xloc)):\n",
    "        coor_var.append((zloc[i], xloc[i])) \n",
    "    #print(coor_var)\n",
    "    \n",
    "    #####################   Calc new xpos #####################################\n",
    "    xpos[t+1,:,:] = xpos[t,:,:] + np.reshape(interpolate.interpn((z,x_stag), u, coor_var_xstag, method='linear', bounds_error=False, fill_value=np.nan)*desired_time_step_length/hor_resolution, (num_seeds_z, num_seeds_x))\n",
    "\n",
    "    #####################   Calc new zpos #####################################\n",
    "    #zpos grid spacing\n",
    "    zpos_grid[t,:,:] = np.reshape(interpolate.interpn((z[:-1],x), z_grid, coor_var, method='linear', bounds_error=False, fill_value= 0), (num_seeds_z, num_seeds_x))\n",
    "    #terrain-following (includes change in surface height). Effect of terrain decreases with height within doamin.\n",
    "    #zpos[t+1,:,:]  = zpos[t,:,:] - change_zs[t,:,:]/zpos_grid[t,:,:]*(abs(zpos[t,:,:]-z_stag[-2])/z_stag[-2]) + np.reshape(interpolate.interpn((z_stag,x), w, coor_var_zstag, method='linear', bounds_error=False, fill_value= 0), (num_seeds_z, num_seeds_x))*desired_time_step_length/(zpos_grid[t,:,:])\n",
    "\n",
    "    #terrain-height coordinates\n",
    "    zpos_terrain[t+1,:,:]  = zpos_terrain[t,:,:] + np.reshape(interpolate.interpn((z_stag,x), w, coor_var_zstag, method='linear', bounds_error=False, fill_value= 0)*desired_time_step_length, (num_seeds_z, num_seeds_x))\n",
    "    \n",
    "    #xand y for current time step\n",
    "    xloc = np.copy(xpos[t+1,:,:]).flatten()\n",
    "    coor_x = []\n",
    "    for i in range(len(xloc)):\n",
    "        coor_x.append((xloc[i]-0.5))\n",
    "    zs2 = np.interp(coor_x, x, zs)\n",
    "    \n",
    "    zpos[t+1,:,:] = np.reshape((zpos_terrain[t+1,:,:].flatten()-zs2.flatten())/zpos_grid[t,:,:].flatten(), (num_seeds_z, num_seeds_x))\n",
    "        \n",
    "    #Prevents parcel from going into ground\n",
    "    xloc = np.copy(xpos[t,:,:]).flatten()\n",
    "    coor_terrain = []\n",
    "    for i in range(len(xloc)):\n",
    "        coor_terrain.append((xloc[i]-0.5)) \n",
    "    surface_height = np.reshape(np.interp(coor_terrain, x, zs), (num_seeds_z, num_seeds_x))\n",
    "    zpos_terrain[t,:,:] = zpos_terrain[t,:,:].clip(min=surface_height) \n",
    "    \n",
    "    #zpos = zpos.clip(min=0) #Prevents parcel from going into the ground\n",
    "    \n",
    "    \n",
    "    #Variables\n",
    "    variable1[t,:,:] = np.reshape(interpolate.interpn((z,x), var1, coor_var, method = 'linear', bounds_error=False, fill_value= np.nan), (num_seeds_z, num_seeds_x))  \n",
    "    \n",
    "    #Timer\n",
    "    stop = time.time()\n",
    "    #print(\"Integration {:01d} took {:.2f} seconds\".format(t, stop-start))\n",
    "    \n",
    "    \n",
    "    \n",
    "    \n",
    "##############  Get variable data for final time step #########################\n",
    "t = time_steps-1\n",
    "\n",
    "#Get get x, y, and z positions to calc parcel movement\n",
    "xloc = np.copy(xpos[t,:,:]).flatten()\n",
    "zloc = np.copy(zpos[t,:,:]).flatten()\n",
    "coor_var = []\n",
    "for i in range(len(xloc)):\n",
    "    coor_var.append((zloc[i], xloc[i])) \n",
    "\n",
    "\n",
    "#Variables\n",
    "variable1[t,:,:] = np.reshape(interpolate.interpn((z,x), var1, coor_var_zstag, method = 'linear', bounds_error=False, fill_value= np.nan), (num_seeds_z, num_seeds_x))"
   ]
  },
  {
   "cell_type": "markdown",
   "metadata": {},
   "source": [
    "# Save Trajectory Data\n",
    "The x, y, and z position and user-specified variable values are saved in 3D numpy arrays. The first dimension is time and the other two are the positions and values of variables of all the parcels at that specifc time."
   ]
  },
  {
   "cell_type": "code",
   "execution_count": 8,
   "metadata": {},
   "outputs": [],
   "source": [
    "np.save('xpos', xpos)\n",
    "np.save('ypos', ypos)\n",
    "np.save('zpos', zpos_terrain)\n",
    "np.save('%s' %var_name1, variable1)"
   ]
  },
  {
   "cell_type": "markdown",
   "metadata": {},
   "source": [
    "# Plot"
   ]
  },
  {
   "cell_type": "code",
   "execution_count": 9,
   "metadata": {},
   "outputs": [
    {
     "data": {
      "image/png": "[encoded data removed]",
      "text/plain": [
       "<Figure size 432x288 with 1 Axes>"
      ]
     },
     "metadata": {},
     "output_type": "display_data"
    }
   ],
   "source": [
    "###############################################################################\n",
    "###################  Backward Trajectory Plot  ################################\n",
    "###############################################################################\n",
    "\n",
    "fig = plt.figure(num=None, figsize=(24,16), facecolor='w', edgecolor='k')\n",
    "%matplotlib inline\n",
    "\n",
    "###################  Plot Trajectories in xy  ###############################\n",
    "\n",
    "#Plot characteristics\n",
    "ax = plt.subplot(111)\n",
    "#plt.title(\"Backward Trajectories\", fontsize = 18, y = 1.05) \n",
    "plt.subplots_adjust(left=0.2, bottom=0.25, right=0.87, top=0.93, wspace=0, hspace=0.15)\n",
    "\n",
    "xlmin = 287.7\n",
    "xlmax = 291.701\n",
    "xlevels = np.arange(xlmin,xlmax, 0.05)\n",
    "xlevels_ticks = np.arange(xlmin,xlmax,2)\n",
    "xlevels_ticks_labels = np.arange(xlmin,xlmax, 2).astype(int)\n",
    "\n",
    "###############################################################################\n",
    "\n",
    "import nclcmaps\n",
    "#Read in colormap and put in proper format\n",
    "colors1 = np.array(nclcmaps.colors['WhiteBlueGreenYellowRed'])#perc2_9lev'])\n",
    "colors_int = colors1.astype(int)\n",
    "colors = list(colors_int)\n",
    "cmap_th = nclcmaps.make_cmap(colors, bit=True)\n",
    "\n",
    "cmap = cmap_th\n",
    "trajectories_xz = plt.scatter(xpos[:,:,:], zpos_terrain[:,:,:], c = 'b', norm=matplotlib.colors.BoundaryNorm(xlevels,cmap.N), s = 1, zorder = 3)\n",
    "#trajectories_xzp = plt.scatter(xposp[:,:], zposp[:,:], c = thp[:,:], cmap = cmap_th, norm=matplotlib.colors.BoundaryNorm(xlevels,cmap.N), s = 0.01, zorder = 3)\n",
    "trajectories_xzp = plt.scatter(xposp[:,:], zposp[:,:], c = 'r', s = 0.1, zorder = 3)\n",
    "\n",
    "\n",
    "\n",
    "\n",
    "plt.grid(True, color = 'white', )\n",
    "plt.ylabel('Height (m)', fontsize = 10)\n",
    "plt.xlabel('Distance (km)\\n\\n2s time step', fontsize = 10)\n",
    "plt.xticks(np.arange(0,ds.nx,10))\n",
    "ytick = np.arange(0,1401,200)\n",
    "plt.yticks(ytick)\n",
    "ax.set_xticklabels(np.arange(0,ds.nx*100/1000,1).astype(int), fontsize = 8)\n",
    "plt.xlim([400,600])\n",
    "plt.ylim([-50,ytick[-1]])\n",
    "ax.tick_params(axis='y', labelsize=8)\n",
    "plt.axvspan(0,ds.u[0,0,0,:].size,color='gainsboro',lw=0)\n",
    "\n",
    "\n",
    "\n",
    "#Plot Terrain\n",
    "x1d = np.arange(0,ds.nx,1)\n",
    "ymid = np.int(ds.ny/2)\n",
    "terrain = plt.plot(x1d, zs[:], c = 'slategrey', linewidth = 1, zorder = 4)\n",
    "\n",
    "\n",
    "#Colorbar\n",
    "# cbaxes = fig.add_axes([0.9, 0.27, 0.035, 0.52])             \n",
    "# cbar = plt.colorbar(trajectories_xz, cax = cbaxes, ticks = xlevels_ticks)\n",
    "# cbar.ax.set_yticklabels(xlevels_ticks_labels)\n",
    "# cbar.ax.tick_params(labelsize=14)\n",
    "# #plt.text(-0.6, -0.1, 'Theta (K)', fontsize = 20)s\n",
    "\n",
    "\n",
    "\n",
    "plt.savefig(\"forward_trajectory_gokhan_2s_z05.png\", dpi = 300)\n",
    "plt.close(fig)"
   ]
  },
  {
   "cell_type": "markdown",
   "metadata": {},
   "source": [
    "# Error"
   ]
  },
  {
   "cell_type": "code",
   "execution_count": 10,
   "metadata": {},
   "outputs": [
    {
     "name": "stdout",
     "output_type": "stream",
     "text": [
      "3.6137472472137713\n",
      "28.443932733210538\n"
     ]
    }
   ],
   "source": [
    "z = np.abs(zposp[:-1,3:]-zpos_terrain[:,3:,0])\n",
    "print(np.mean(z))\n",
    "\n",
    "x = np.abs(xposp[:-1,3:]-xpos[:,3:,0])\n",
    "print(np.mean(x)*100)"
   ]
  },
  {
   "cell_type": "code",
   "execution_count": 11,
   "metadata": {},
   "outputs": [
    {
     "data": {
      "text/plain": [
       "288.44128"
      ]
     },
     "execution_count": 11,
     "metadata": {},
     "output_type": "execute_result"
    }
   ],
   "source": [
    "import numpy as np\n",
    "def find_nearest(array, value):\n",
    "    array = np.asarray(array)\n",
    "    idx = (np.abs(array - value)).argmin()\n",
    "    return array[idx]\n",
    "\n",
    "array = ds.th[0,:,0,:].values.flatten()\n",
    "find_nearest(array, 288.44128)\n",
    "# 0.568743859261"
   ]
  },
  {
   "cell_type": "code",
   "execution_count": 12,
   "metadata": {},
   "outputs": [
    {
     "name": "stdout",
     "output_type": "stream",
     "text": [
      "26550\n"
     ]
    }
   ],
   "source": [
    "idx = (np.abs(array - 400)).argmin()\n",
    "print(idx)"
   ]
  }
 ],
 "metadata": {
  "kernelspec": {
   "display_name": "Python 3",
   "language": "python",
   "name": "python3"
  },
  "language_info": {
   "codemirror_mode": {
    "name": "ipython",
    "version": 3
   },
   "file_extension": ".py",
   "mimetype": "text/x-python",
   "name": "python",
   "nbconvert_exporter": "python",
   "pygments_lexer": "ipython3",
   "version": "3.6.8"
  }
 },
 "nbformat": 4,
 "nbformat_minor": 2
}

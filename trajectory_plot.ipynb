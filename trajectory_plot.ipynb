{
 "cells": [
  {
   "cell_type": "markdown",
   "metadata": {},
   "source": [
    "# Plot Trajectories\n",
    "This is script will create a sample plot of trajectories calculated from \"backwards_trajectories.ipynb\". It contains two subplots: trajectories in the x-y and x-z plane.  "
   ]
  },
  {
   "cell_type": "markdown",
   "metadata": {},
   "source": [
    "# Load Modules"
   ]
  },
  {
   "cell_type": "code",
   "execution_count": null,
   "metadata": {},
   "outputs": [],
   "source": [
    "import numpy as np\n",
    "import pandas as pd\n",
    "import xarray as xr\n",
    "import matplotlib\n",
    "import matplotlib.pyplot as plt\n",
    "import matplotlib.cm as cm\n",
    "from matplotlib.colors import Normalize"
   ]
  },
  {
   "cell_type": "markdown",
   "metadata": {},
   "source": [
    "# Read in Trajectory Data"
   ]
  },
  {
   "cell_type": "code",
   "execution_count": null,
   "metadata": {},
   "outputs": [],
   "source": [
    "xpos = np.load('trajectory_arrays/xpos.npy')\n",
    "ypos = np.load('trajectory_arrays/ypos.npy')\n",
    "zpos = np.load('trajectory_arrays/zpos.npy')\n",
    "variable1 = np.load('trajectory_arrays/th.npy')"
   ]
  },
  {
   "cell_type": "markdown",
   "metadata": {},
   "source": [
    "# Read in Model Data for Domain Info"
   ]
  },
  {
   "cell_type": "code",
   "execution_count": null,
   "metadata": {},
   "outputs": [],
   "source": [
    "#Read in model data\n",
    "ds = xr.open_dataset('/uufs/chpc.utah.edu/common/home/steenburgh-group8/tom/cm1/output/15ms_1500m_tug.nc')\n",
    "\n",
    "#Horizontal resolution of model output (meters)\n",
    "hor_resolution = (ds.xf[1].values-ds.xf[0].values)*1000\n",
    "\n",
    "#Get surface height grid (set to zero if no terrain)\n",
    "try:\n",
    "    zs = np.array(ds.zs[0,:,:])\n",
    "except:\n",
    "    zs = np.zeros((ds.ny, ds.nx))  "
   ]
  },
  {
   "cell_type": "markdown",
   "metadata": {},
   "source": [
    "# Plot Trajectories"
   ]
  },
  {
   "cell_type": "code",
   "execution_count": null,
   "metadata": {},
   "outputs": [],
   "source": [
    "###############################################################################\n",
    "###################  Backward Trajectory Plot  ################################\n",
    "###############################################################################\n",
    "\n",
    "%matplotlib inline\n",
    "fig = plt.figure(figsize=(12,8), facecolor='w', edgecolor='k')\n",
    "\n",
    "###################  Plot Trajectories in x-y plane ###############################\n",
    "\n",
    "#Create Plot\n",
    "ax = plt.subplot(211,aspect = 'equal') \n",
    "plt.subplots_adjust(left=0.1, bottom=0.11, right=0.87, top=0.93, wspace=0, hspace=0.15)\n",
    "\n",
    "#Color range of Varible1 (set by user)\n",
    "xlmin = 262\n",
    "xlmax = 278.01\n",
    "xlevels = np.arange(xlmin,xlmax, 0.05)\n",
    "xlevels_ticks = np.arange(xlmin,xlmax,2)\n",
    "xlevels_ticks_labels = np.arange(xlmin,xlmax, 2).astype(int)\n",
    "\n",
    "#Plot trajectories in x-y plane, colored by Variable1\n",
    "cmap = cm.Spectral\n",
    "trajectories_xy = plt.scatter(xpos, ypos, c = variable1, cmap = cmap, norm=matplotlib.colors.BoundaryNorm(xlevels,cmap.N), s = 2, zorder = 7)\n",
    "\n",
    "#Ticks and labels (set by user)\n",
    "xticks = np.arange(0,ds.nx,200)\n",
    "yticks = np.arange(0,ds.ny,200)\n",
    "plt.xticks(xticks)\n",
    "plt.yticks(yticks)\n",
    "xtickslabs = (xticks*hor_resolution/1000).astype(int) #kilometers\n",
    "ytickslabs = (yticks*hor_resolution/1000).astype(int) #kilometers\n",
    "ax.set_xticklabels((xtickslabs), fontsize = 12)\n",
    "ax.set_yticklabels((ytickslabs), fontsize = 12)\n",
    "plt.ylabel('Distance (km)', fontsize = 16)\n",
    "\n",
    "#Limits and characteristics (set by user)\n",
    "plt.xlim(0,ds.nx)\n",
    "plt.ylim(0,ds.ny)\n",
    "ax.spines['right'].set_visible(False)\n",
    "ax.spines['top'].set_visible(False)\n",
    "ax.spines['bottom'].set_visible(False)\n",
    "ax.spines['left'].set_visible(False)\n",
    "\n",
    "#Plot water and land (set by user)\n",
    "levels_water = [1.5, 2.5]\n",
    "levels_terrain = [0,1.5]\n",
    "xland_plt = plt.contourf(ds.xland[0,:,:], levels_water, alpha = 1, colors = ('lightsteelblue'), zorder = 2)\n",
    "xland_plt = plt.contourf(ds.xland[0,:,:], levels_terrain, alpha = 1, colors = ('gainsboro'), zorder = 1)\n",
    "\n",
    "#Terrain (set by user)\n",
    "terrain_levels = np.arange(-1, 2000.1, 100)\n",
    "terrain = plt.contourf(zs[:,:], terrain_levels, alpha = 1, cmap = cm.Greys, vmin = -600, vmax = 2000, zorder = 1)\n",
    "\n",
    "\n",
    "\n",
    "###################  Plot Trajectories in x-z plane ###############################\n",
    "\n",
    "#Create subplot\n",
    "ax = plt.subplot(212)\n",
    "\n",
    "#Plot trajectories in x-z plane, colored by Variable1\n",
    "trajectories_xz = plt.scatter(xpos, zpos, c = variable1, cmap = cmap, norm=matplotlib.colors.BoundaryNorm(xlevels,cmap.N), s = 2, zorder = 3)\n",
    "\n",
    "#Ticks and labels (set by user)\n",
    "xticks = np.arange(0,ds.nx,200)\n",
    "yticks = np.arange(0,4001,500)\n",
    "plt.xticks(xticks)\n",
    "plt.yticks(yticks)\n",
    "xtickslabs = (xticks*hor_resolution/1000).astype(int) #kilometers\n",
    "ytickslabs = (yticks).astype(int) #meters\n",
    "ax.set_xticklabels((xtickslabs), fontsize = 12)\n",
    "ax.set_yticklabels((ytickslabs), fontsize = 12)\n",
    "plt.ylabel('Height (m)', fontsize = 16)\n",
    "plt.xlabel('Distance (km)', fontsize = 16)\n",
    "\n",
    "#Limits and characteristics (set by user)\n",
    "plt.xlim(0,ds.nx)\n",
    "plt.ylim([-50,yticks[-1]])\n",
    "plt.axvspan(0,ds.nx,color='gainsboro',lw=0)\n",
    "plt.grid(True, color = 'white')\n",
    "\n",
    "#Plot Terrain (set by user)\n",
    "x1d = np.arange(0,ds.nx,1)\n",
    "ymid = np.int(ds.ny/2)\n",
    "terrain = plt.plot(x1d, zs[ymid,:]-40, c = 'slategrey', linewidth = 4, zorder = 4)\n",
    "\n",
    "#Plot Lake (set by user)\n",
    "lake = np.array(ds.xland[0,ymid,:])\n",
    "lake[lake == 1] = np.nan\n",
    "lake_plt = plt.plot(x1d, lake-40, c = 'blue', linewidth = 4, zorder = 5)\n",
    "\n",
    "#Colorbar (set by user)\n",
    "plt.text(1.03, 0.08,'Theta (K)', fontsize = 16, transform = ax.transAxes)\n",
    "cax = fig.add_axes([0.005,0.2,1.06,0.6],visible=None)            \n",
    "cbar = plt.colorbar(trajectories_xz, ax = cax, ticks = xlevels_ticks, orientation='vertical', aspect = 12)\n",
    "cbar.ax.set_xticklabels(xlevels_ticks_labels)\n",
    "cbar.ax.tick_params(labelsize=12)\n",
    "\n",
    "#Save\n",
    "plt.savefig(\"trajectory_plot.png\", dpi = 300)"
   ]
  }
 ],
 "metadata": {
  "kernelspec": {
   "display_name": "Python 3",
   "language": "python",
   "name": "python3"
  },
  "language_info": {
   "codemirror_mode": {
    "name": "ipython",
    "version": 3
   },
   "file_extension": ".py",
   "mimetype": "text/x-python",
   "name": "python",
   "nbconvert_exporter": "python",
   "pygments_lexer": "ipython3",
   "version": "3.6.8"
  }
 },
 "nbformat": 4,
 "nbformat_minor": 2
}

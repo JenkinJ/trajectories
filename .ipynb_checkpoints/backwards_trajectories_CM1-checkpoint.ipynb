{
 "cells": [
  {
   "cell_type": "markdown",
   "metadata": {},
   "source": [
    "# Load Modules"
   ]
  },
  {
   "cell_type": "code",
   "execution_count": 1,
   "metadata": {},
   "outputs": [],
   "source": [
    "import os, sys\n",
    "from netCDF4 import Dataset\n",
    "import numpy as np\n",
    "import pandas as pd\n",
    "import xarray as xr\n",
    "from scipy import interpolate\n",
    "import time"
   ]
  },
  {
   "cell_type": "markdown",
   "metadata": {},
   "source": [
    "# Read in CM1 Output"
   ]
  },
  {
   "cell_type": "code",
   "execution_count": 3,
   "metadata": {},
   "outputs": [],
   "source": [
    "ds = xr.open_dataset('/uufs/chpc.utah.edu/common/home/steenburgh-group8/tom/cm1/output/tug/cm1run_150m_25ms_2000m_90sec.nc')\n",
    "\n",
    "#Get model output demensions\n",
    "num_x = ds.nx\n",
    "num_y = ds.ny\n",
    "num_z = ds.nz\n",
    "\n",
    "x = np.arange(0,num_x,1)\n",
    "y = np.arange(0,num_y,1)\n",
    "z = np.arange(0,num_z,1)"
   ]
  },
  {
   "cell_type": "markdown",
   "metadata": {},
   "source": [
    "# Info to Initialize and Calculate Parcels"
   ]
  },
  {
   "cell_type": "markdown",
   "metadata": {},
   "source": [
    "Variables based on their model output and desired parcels (set by user). The code initializes an array of parcels in the the y,z domain. It can be easily modified to also initialize in the x-domain."
   ]
  },
  {
   "cell_type": "code",
   "execution_count": 4,
   "metadata": {},
   "outputs": [],
   "source": [
    "num_seeds_z = 30 #Number of parcels in vertical (can be more than number of vertical levels) \n",
    "num_seeds_y = 100 #Number of parcels in y\n",
    "time_steps = 50 #Number of time steps to run trajectories back\n",
    "start_time_step = 210 #Time step to start backwards trajectories at\n",
    "hor_resolution = 150 #Horizontal resolution of model output (meters)\n",
    "vert_resolution = 100 #Vertical resolution of model output. Only used in no-terrain runs. Calculated below for runs with terrain (meters)\n",
    "time_step_length = 90.0 #Model output time step length (seconds)\n",
    "var_name1 = 'th' #Variable to record at each parcel's location throughout trajectory (code can be easily modified to add more)"
   ]
  },
  {
   "cell_type": "markdown",
   "metadata": {},
   "source": [
    "Create empty arrays to x, y, and z positions of parcels and variable to track"
   ]
  },
  {
   "cell_type": "code",
   "execution_count": null,
   "metadata": {},
   "outputs": [],
   "source": [
    "xpos = np.zeros((time_steps, num_seeds_z, num_seeds_y))\n",
    "ypos = np.zeros((time_steps, num_seeds_z, num_seeds_y))\n",
    "zpos = np.zeros((time_steps, num_seeds_z, num_seeds_y))\n",
    "zpos_grid = np.zeros((time_steps, num_seeds_z, num_seeds_y))\n",
    "change_zs = np.zeros((time_steps, num_seeds_z, num_seeds_y))\n",
    "variable1 = np.zeros((time_steps, num_seeds_z, num_seeds_y))"
   ]
  },
  {
   "cell_type": "markdown",
   "metadata": {},
   "source": [
    "Initial location of seeds (set by user)"
   ]
  },
  {
   "cell_type": "code",
   "execution_count": null,
   "metadata": {},
   "outputs": [],
   "source": [
    "#x-position\n",
    "xpos[0,:,:] = num_x-410 #This example initializes all seeds at same x-position\n",
    "\n",
    "#y-position   \n",
    "for i in range(num_seeds_y):\n",
    "    ypos[0,:,i] = 4*i #This example initializes seeds evenly starting at 0 in y-dimension\n",
    "\n",
    "#z-position\n",
    "for i in range(num_seeds_z):\n",
    "    zpos[0,i,:] = 2*i #This example initializes seeds evenly starting at zero in z-deimension"
   ]
  },
  {
   "cell_type": "markdown",
   "metadata": {},
   "source": [
    "## Initialize Surface Terrain Height and Calculate Vertical Grid-Spacing\n",
    "CM1 output in terrain following so we must add the surface terrain height to the initial height of the parcels above the surface. Also, the vertical grid spacing changes above areas of terrain in CM1. We must read in the the vertical heights and calculate the the vertical grid spacing for each x,y grid point. This will be ignored if you are not using terrain."
   ]
  },
  {
   "cell_type": "code",
   "execution_count": null,
   "metadata": {},
   "outputs": [],
   "source": [
    "#check if run has terrain (if not, zs is zero and z-position should not be affected)\n",
    "try:\n",
    "    #Get vertical coordinates\n",
    "    zh = np.array(ds.zh[0,:,:,:])\n",
    "    #Create list of current coordinates for terrain addition\n",
    "    xloc = np.array(xpos[0,:,:]).flatten()\n",
    "    yloc = np.array(ypos[0,:,:]).flatten()\n",
    "    zloc = np.array(zpos[0,:,:]).flatten()\n",
    "    coor_terrain = []\n",
    "    for i in range(len(xloc)):\n",
    "        coor_terrain.append((zloc[i], yloc[i], xloc[i]))\n",
    "    \n",
    "    #Get the actual inital height of the parcels. Not their height above the surface.\n",
    "    zpos_terrain = np.array(zpos)\n",
    "    zpos_terrain[0,:,:] = np.reshape(interpolate.interpn((z,y,x), zh, coor_terrain, method='linear', bounds_error=False, fill_value= 0), (num_seeds_z, num_seeds_y))\n",
    "    \n",
    "    #This gets us the grid spacing for the vertical grid\n",
    "    z_grid = zh[1:,:,:]-zh[:-1,:,:]\n",
    "\n",
    "\n",
    "except:\n",
    "    #No terrain runs\n",
    "    zh = np.zeros((ds.nz,ds.ny, ds.nx))\n",
    "    zpos_terrain = np.copy(zpos)*vert_resolution\n",
    "    z_grid = np.ones((ds.nz-1,ds.ny, ds.nx))*vert_resolution"
   ]
  },
  {
   "cell_type": "markdown",
   "metadata": {},
   "source": [
    "# Calculate Trajectories"
   ]
  },
  {
   "cell_type": "code",
   "execution_count": null,
   "metadata": {},
   "outputs": [],
   "source": [
    "#Loop over all time steps and compute trajectory\n",
    "for t in range(time_steps-1):\n",
    "    \n",
    "    start = time.time() #Timer\n",
    "    \n",
    "    #Get model data\n",
    "    u = ds.uinterp[start_time_step-t,:,:,:].values\n",
    "    v = ds.vinterp[start_time_step-t,:,:,:].values\n",
    "    w = ds.winterp[start_time_step-t,:,:,:].values\n",
    "    var1 = getattr(ds,var_name1)[start_time_step-t,:,:,:].values\n",
    "\n",
    "                                \n",
    "    #####################   Get x,y,z for variables ###########################\n",
    "    ##  If the model output is terrain following, the change in surface      ##\n",
    "    ##  height at each timestep must be added to the height (zpos) of the    ##\n",
    "    ##  parcels.                                                             ##\n",
    "    ###########################################################################\n",
    "        \n",
    "    #Get surface height grid\n",
    "    try:\n",
    "        zs = np.array(ds.zs[0,:,:])\n",
    "    except:\n",
    "        zs = np.zeros((ds.ny, ds.nx))  \n",
    "\n",
    "\n",
    "    #Get previous and current x and y positions to calc change in surface height\n",
    "    if t > 0:\n",
    "        \n",
    "        #x and y for one time step back\n",
    "        xloc = np.copy(xpos[t-1,:,:]).flatten()\n",
    "        yloc = np.copy(ypos[t-1,:,:]).flatten()\n",
    "        coor_xminus1 = []\n",
    "        for i in range(len(xloc)):\n",
    "            coor_xminus1.append((yloc[i], xloc[i]))\n",
    "            \n",
    "            \n",
    "        #xand y for current time step\n",
    "        xloc = np.copy(xpos[t,:,:]).flatten()\n",
    "        yloc = np.copy(ypos[t,:,:]).flatten()\n",
    "        coor_x = []\n",
    "        for i in range(len(xloc)):\n",
    "            coor_x.append((yloc[i], xloc[i]))\n",
    "            \n",
    "        #Calc surface height at each time\n",
    "        xminus1_h = interpolate.interpn((y,x), zs, coor_xminus1, method='linear', bounds_error=False, fill_value= 0)\n",
    "        x_h = interpolate.interpn((y,x), zs, coor_x, method='linear', bounds_error=False, fill_value= 0)\n",
    "        \n",
    "        #Calc change in surface height during last timestep, which will be added to zpos\n",
    "        change_zs[t,:,:] =  np.reshape(x_h - xminus1_h, (num_seeds_z, num_seeds_y))\n",
    "    \n",
    "    \n",
    "    #Get get x, y, and z positions to calc parcel movement\n",
    "    xloc = np.copy(xpos[t,:,:]).flatten()\n",
    "    yloc = np.copy(ypos[t,:,:]).flatten()\n",
    "    zloc = np.copy(zpos[t,:,:]).flatten()\n",
    "    coor_var = []\n",
    "    for i in range(len(xloc)):\n",
    "        coor_var.append((zloc[i], yloc[i], xloc[i])) \n",
    "    \n",
    "    \n",
    "    #####################   Calc new xpos #####################################\n",
    "    xpos[t+1,:,:] = xpos[t,:,:] - np.reshape(interpolate.interpn((z,y,x), u, coor_var, method='linear', bounds_error=False, fill_value=np.nan)*time_step_length/hor_resolution, (num_seeds_z, num_seeds_y))\n",
    "\n",
    "    #####################   Calc new ypos #####################################\n",
    "    ypos[t+1,:,:]  = ypos[t,:,:] - np.reshape(interpolate.interpn((z,y,x), v, coor_var, method='linear', bounds_error=False, fill_value=np.nan)*time_step_length/hor_resolution, (num_seeds_z, num_seeds_y))\n",
    "\n",
    "    #####################   Calc new zpos #####################################\n",
    "    #zpos grid spacing\n",
    "    zpos_grid[t,:,:] = np.reshape(interpolate.interpn((z[:-1],y,x), z_grid, coor_var, method='linear', bounds_error=False, fill_value= 0), (num_seeds_z, num_seeds_y))\n",
    "    #terrain-following (includes change in surface height)\n",
    "    zpos[t+1,:,:]  = zpos[t,:,:] - change_zs[t,:,:]/zpos_grid[t,:,:]*(abs(zpos[t,:,:]-z[-1])/z[-1]) - np.reshape(interpolate.interpn((z,y,x), w, coor_var, method='linear', bounds_error=False, fill_value= 0), (num_seeds_z, num_seeds_y))*time_step_length/zpos_grid[t,:,:]\n",
    "    #terrain-height coordinates\n",
    "    zpos_terrain[t+1,:,:]  = zpos_terrain[t,:,:] - np.reshape(interpolate.interpn((z,y,x), w, coor_var, method='linear', bounds_error=False, fill_value= 0)*time_step_length, (num_seeds_z, num_seeds_y))\n",
    "\n",
    "    zpos = zpos.clip(min=0) #Prevents parcel from going into the ground\n",
    "    \n",
    "        \n",
    "    #Prevents parcel from going into ground\n",
    "    xloc = np.copy(xpos[t,:,:]).flatten()\n",
    "    yloc = np.copy(ypos[t,:,:]).flatten()\n",
    "    coor_terrain = []\n",
    "    for i in range(len(xloc)):\n",
    "        coor_terrain.append((yloc[i], xloc[i])) \n",
    "    surface_height = np.reshape(interpolate.interpn((y,x), zs, coor_terrain, method='linear', bounds_error=False, fill_value= 0)/vert_resolution, (num_seeds_z, num_seeds_y))\n",
    "    zpos_terrain[t,:,:] = zpos_terrain[t,:,:].clip(min=surface_height) \n",
    "    \n",
    "    \n",
    "    #Variables\n",
    "    variable1[t,:,:] = np.reshape(interpolate.interpn((z,y,x), var1, coor_var, method = 'linear', bounds_error=False, fill_value= np.nan), (num_seeds_z, num_seeds_y))  \n",
    "    \n",
    "    #Timer\n",
    "    stop = time.time()\n",
    "    print(\"Integration {:01d} took {:.2f} seconds\".format(t, stop-start))\n",
    "    \n",
    "    "
   ]
  },
  {
   "cell_type": "markdown",
   "metadata": {},
   "source": [
    "Get variable data for final time step"
   ]
  },
  {
   "cell_type": "code",
   "execution_count": null,
   "metadata": {},
   "outputs": [],
   "source": [
    "t = time_steps-1\n",
    "\n",
    "#Get get x, y, and z positions to calc parcel movement\n",
    "xloc = np.copy(xpos[t,:,:]).flatten()\n",
    "yloc = np.copy(ypos[t,:,:]).flatten()\n",
    "zloc = np.copy(zpos[t,:,:]).flatten()\n",
    "coor_var = []\n",
    "for i in range(len(xloc)):\n",
    "    coor_var.append((zloc[i], yloc[i], xloc[i])) \n",
    "\n",
    "\n",
    "#Variables\n",
    "variable1[t,:,:] = np.reshape(interpolate.interpn((z,y,x), var1, coor_var, method = 'linear', bounds_error=False, fill_value= np.nan), (num_seeds_z, num_seeds_y))"
   ]
  },
  {
   "cell_type": "markdown",
   "metadata": {},
   "source": [
    "# Save Trajectory Data\n",
    "The x, y, and z position and user-specified variable values are saved in 3D numpy arrays. The first dimension is time and the other two are the positions and values of variables of all the parcels at that specifc time."
   ]
  },
  {
   "cell_type": "code",
   "execution_count": null,
   "metadata": {},
   "outputs": [],
   "source": [
    "np.save('xpos', xpos)\n",
    "np.save('ypos', ypos)\n",
    "np.save('zpos', zpos_terrain)\n",
    "np.save('%s' %var_name1, variable1)"
   ]
  }
 ],
 "metadata": {
  "kernelspec": {
   "display_name": "Python 3",
   "language": "python",
   "name": "python3"
  },
  "language_info": {
   "codemirror_mode": {
    "name": "ipython",
    "version": 3
   },
   "file_extension": ".py",
   "mimetype": "text/x-python",
   "name": "python",
   "nbconvert_exporter": "python",
   "pygments_lexer": "ipython3",
   "version": "3.6.5"
  }
 },
 "nbformat": 4,
 "nbformat_minor": 2
}
